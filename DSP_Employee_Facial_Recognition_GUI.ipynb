{
 "cells": [
  {
   "cell_type": "markdown",
   "id": "0f22712b-f079-4725-81c8-1d0c76da8905",
   "metadata": {},
   "source": [
    "Step 1 Installing and importing necessary libraries"
   ]
  },
  {
   "cell_type": "code",
   "execution_count": null,
   "id": "04d4970e-d14c-4634-9e2e-49af98ced7ec",
   "metadata": {},
   "outputs": [],
   "source": [
    "import cv2\n",
    "import numpy as np\n",
    "import os\n",
    "import csv\n",
    "import time\n",
    "from datetime import datetime\n",
    "from win32com.client import Dispatch\n",
    "from keras.models import model_from_json\n",
    "from keras.preprocessing import image"
   ]
  },
  {
   "cell_type": "markdown",
   "id": "f9eb2aed-d325-4a06-8dd9-af23fde9df8f",
   "metadata": {},
   "source": [
    "Step 2 Designing the GUI and Loading the Pretrained Model"
   ]
  },
  {
   "cell_type": "code",
   "execution_count": null,
   "id": "b3709a8d-f888-4e2f-baa0-8ca0d8725f1c",
   "metadata": {},
   "outputs": [],
   "source": [
    "def speak(str1):\n",
    "    speak = Dispatch(\"SAPI.SpVoice\")\n",
    "    speak.Speak(str1)\n",
    "\n",
    "# Load the FaceNet model\n",
    "def load_facenet_model(json_path, weights_path):\n",
    "    with open(json_path, \"r\") as json_file:\n",
    "        model_json = json_file.read()\n",
    "    facenet_model = model_from_json(model_json)\n",
    "    facenet_model.load_weights(weights_path)\n",
    "    print(\"FaceNet model loaded successfully from JSON and weights.\")\n",
    "    return facenet_model\n",
    "\n",
    "# Paths to FaceNet model files\n",
    "facenet_json_path = r\"C:\\Users\\MY\\DSP1\\db\\facenet_model.json\"\n",
    "facenet_weights_path = r\"C:\\Users\\MY\\DSP1\\db\\facenet_model_weights.h5\"\n",
    "\n",
    "# Initialize FaceNet model\n",
    "facenet_model = load_facenet_model(facenet_json_path, facenet_weights_path)\n",
    "\n",
    "# Path to Haar Cascade XML for face detection\n",
    "facedetect = cv2.CascadeClassifier(r\"C:\\Users\\MY\\DSP1\\db\\haarcascade_frontalface_default.xml\")\n",
    "\n",
    "# Load background image for the GUI\n",
    "imgBackground = cv2.imread(r\"C:\\Users\\MY\\yolov8\\roboflow screenshot\\background.png\")\n",
    "COL_NAMES = ['DATE','NAME', 'TIME']"
   ]
  },
  {
   "cell_type": "markdown",
   "id": "62f8a30b-6c97-4ba3-97cd-3cf11aac55ff",
   "metadata": {},
   "source": [
    "Step 3 Real-Time Attendance System"
   ]
  },
  {
   "cell_type": "code",
   "execution_count": null,
   "id": "63864147-0bf4-4636-8330-849f4ae672ce",
   "metadata": {},
   "outputs": [],
   "source": [
    "# Open the webcam\n",
    "video = cv2.VideoCapture(0)\n",
    "\n",
    "while True:\n",
    "    ret, frame = video.read()\n",
    "    if not ret:\n",
    "        print(\"Error: Failed to capture image\")\n",
    "        break\n",
    "\n",
    "    gray = cv2.cvtColor(frame, cv2.COLOR_BGR2GRAY)\n",
    "    detected_faces = facedetect.detectMultiScale(gray, 1.3, 5)\n",
    "\n",
    "    for (x, y, w, h) in detected_faces:\n",
    "        crop_image = frame[y:y + h, x:x + w, :]\n",
    "        resized_img = cv2.resize(crop_image, (160, 160))  # Resize for FaceNet input\n",
    "        img_array = image.img_to_array(resized_img)\n",
    "        img_array = np.expand_dims(img_array, axis=0)\n",
    "        img_array = preprocess_input(img_array)\n",
    "\n",
    "        # Generate embeddings using FaceNet\n",
    "        embeddings = facenet_model.predict(img_array)\n",
    "\n",
    "        # Match the embedding with stored embeddings\n",
    "        output = \"Recognized_Person\"  # Replace with actual matching logic\n",
    "\n",
    "        # Record timestamp\n",
    "        ts = time.time()\n",
    "        date = datetime.fromtimestamp(ts).strftime(\"%d-%m-%Y\")\n",
    "        timestamp = datetime.fromtimestamp(ts).strftime(\"%H:%M:%S\")\n",
    "\n",
    "        # Draw rectangle and name on the frame\n",
    "        cv2.rectangle(frame, (x, y), (x + w, y + h), (0, 0, 255), 2)\n",
    "        cv2.putText(frame, str(output), (x, y - 15), cv2.FONT_HERSHEY_SIMPLEX, 1, (255, 255, 255), 2)\n",
    "\n",
    "        # Prepare attendance record\n",
    "        attendance = [str(output), str(timestamp)]\n",
    "\n",
    "    imgBackground[162:162 + 480, 55:55 + 640] = frame\n",
    "    cv2.imshow(\"Frame\", imgBackground)\n",
    "\n",
    "    # Save attendance on key press\n",
    "    k = cv2.waitKey(1)\n",
    "    if k == ord('o'):  # Press 'o' to save attendance\n",
    "        speak(\"Attendance Taken, Have a nice day!!\")\n",
    "        time.sleep(3)\n",
    "        save_attendance_to_csv(attendance, date)\n",
    "\n",
    "    if k == ord('q'):  # Press 'q' to quit\n",
    "        break\n",
    "\n",
    "# Release resources\n",
    "video.release()\n",
    "cv2.destroyAllWindows()"
   ]
  },
  {
   "cell_type": "markdown",
   "id": "4c275efd-e24f-4138-aa6f-a323061bf0aa",
   "metadata": {},
   "source": [
    "Step 4 Automatically Saving Attendance into CSV File"
   ]
  },
  {
   "cell_type": "code",
   "execution_count": null,
   "id": "49a315e8-4f5b-43ab-8edb-cb59cf89ce7d",
   "metadata": {},
   "outputs": [],
   "source": [
    "def save_attendance_to_csv(attendance, date):\n",
    "    filename = \"Attendance/Attendance_\" + date + \".csv\"\n",
    "    file_exists = os.path.isfile(filename)\n",
    "\n",
    "    if file_exists:\n",
    "        with open(filename, \"a\") as csvfile:\n",
    "            writer = csv.writer(csvfile)\n",
    "            writer.writerow(attendance)\n",
    "    else:\n",
    "        with open(filename, \"w\") as csvfile:\n",
    "            writer = csv.writer(csvfile)\n",
    "            writer.writerow(COL_NAMES)\n",
    "            writer.writerow(attendance)\n",
    "    print(f\"Attendance saved to {filename}\")"
   ]
  },
  {
   "cell_type": "markdown",
   "id": "fd23df75-53ad-4e78-9173-3c19543aaca0",
   "metadata": {},
   "source": [
    "Data Visualization from Real-time database"
   ]
  },
  {
   "cell_type": "code",
   "execution_count": null,
   "id": "d3438357-7a4e-4eb5-bebb-513fa2d29073",
   "metadata": {},
   "outputs": [],
   "source": [
    "import matplotlib.pyplot as plt\n",
    "import matplotlib.animation as animation\n",
    "import pandas as pd\n",
    "from datetime import datetime\n",
    "import os\n",
    "\n",
    "# Function to get the path of today's attendance CSV file\n",
    "def get_csv_file():\n",
    "    date = datetime.now().strftime(\"%d-%m-%Y\")\n",
    "    return f\"Attendance/Attendance_{date}.csv\"\n",
    "\n",
    "# Initialize the figure with 3 subplots\n",
    "fig, axs = plt.subplots(1, 3, figsize=(15, 5))  # Create a 1x3 grid for the charts\n",
    "plt.subplots_adjust(wspace=0.5)  # Add space between the charts\n",
    "\n",
    "# Function to update the graphs dynamically\n",
    "def update_graph(i):\n",
    "    csv_file = get_csv_file()  # Get today's CSV file\n",
    "    if os.path.isfile(csv_file):  # Check if the file exists\n",
    "        data = pd.read_csv(csv_file)\n",
    "\n",
    "        # Check if 'NAME:' column exists in the CSV file\n",
    "        if 'NAME:' in data.columns:\n",
    "            # Count attendance occurrences by employee names\n",
    "            counts = data['NAME:'].value_counts()\n",
    "\n",
    "            # Bar Chart\n",
    "            axs[0].clear()\n",
    "            axs[0].bar(counts.index, counts.values, color='skyblue')\n",
    "            axs[0].set_title(\"Bar Chart - Attendance Statistics\")\n",
    "            axs[0].set_xlabel(\"Employee Names\")\n",
    "            axs[0].set_ylabel(\"Attendance Count\")\n",
    "            axs[0].tick_params(axis='x', rotation=45) \n",
    "\n",
    "            # Line Chart - Attendance Trend Over Time\n",
    "            axs[0, 1].clear()\n",
    "            axs[0, 1].plot(daily_counts.index, daily_counts.values, marker='o', color='green')\n",
    "            axs[0, 1].set_title(\"Line Chart - Attendance Trend\")\n",
    "            axs[0, 1].set_xlabel(\"Date\")\n",
    "            axs[0, 1].set_ylabel(\"Total Attendance\")\n",
    "            axs[0, 1].tick_params(axis='x', rotation=45)\n",
    "\n",
    "            # Key Metric (Gauge-like Plot) - Overall Attendance Rate\n",
    "            axs[1, 1].clear()\n",
    "            total_employees = 50  # Assume total employees\n",
    "            attendance_rate = counts.sum() / total_employees * 100\n",
    "            axs[1, 1].barh([\"Attendance Rate\"], [attendance_rate], color='orange')\n",
    "            axs[1, 1].set_xlim(0, 100)\n",
    "            axs[1, 1].set_title(\"Overall Attendance Rate\")\n",
    "            axs[1, 1].set_xlabel(\"Percentage\")\n",
    "\n",
    "# Use Matplotlib's animation to update the charts every 3 seconds\n",
    "ani = animation.FuncAnimation(fig, update_graph, interval=3000)\n",
    "\n",
    "# Display the visualization\n",
    "plt.show()"
   ]
  },
  {
   "cell_type": "code",
   "execution_count": null,
   "id": "9e4cb945-a6e8-4c97-9c5a-bea05ed60ecc",
   "metadata": {},
   "outputs": [],
   "source": []
  }
 ],
 "metadata": {
  "kernelspec": {
   "display_name": "Python 3 (ipykernel)",
   "language": "python",
   "name": "python3"
  },
  "language_info": {
   "codemirror_mode": {
    "name": "ipython",
    "version": 3
   },
   "file_extension": ".py",
   "mimetype": "text/x-python",
   "name": "python",
   "nbconvert_exporter": "python",
   "pygments_lexer": "ipython3",
   "version": "3.9.21"
  }
 },
 "nbformat": 4,
 "nbformat_minor": 5
}
